{
 "cells": [
  {
   "cell_type": "markdown",
   "source": [
    "## Import statements"
   ],
   "metadata": {
    "collapsed": false,
    "pycharm": {
     "name": "#%% md\n"
    }
   }
  },
  {
   "cell_type": "code",
   "execution_count": 1,
   "outputs": [
    {
     "name": "stdout",
     "output_type": "stream",
     "text": [
      "Using cuda:0 for training/validating the model\n"
     ]
    }
   ],
   "source": [
    "import copy\n",
    "import random\n",
    "import time\n",
    "from typing import Any\n",
    "\n",
    "import matplotlib.pyplot as plt\n",
    "import numpy as np\n",
    "import torch\n",
    "import torch.nn as nn\n",
    "import torch.optim as optim\n",
    "import torchvision\n",
    "from torch.optim import lr_scheduler\n",
    "from torch.utils.data import DataLoader\n",
    "from torchvision import models\n",
    "\n",
    "from util.dataset_util import DatasetUtil\n",
    "from util.imagenet import Imagenet\n",
    "from util.imagenet_utk import ImagenetUtk\n",
    "from util.imagenet_vgg import ImagenetVgg\n",
    "from util.dataset_vgg_utk import ValDatasetVggUtk\n",
    "\n",
    "# Use CUDA if available\n",
    "device = torch.device(\"cuda:0\" if torch.cuda.is_available() else \"cpu\")\n",
    "print(\"Using %s for training/validating the model\" % device)\n",
    "\n",
    "# setting up seeds for reproducibility\n",
    "torch.manual_seed(0)\n",
    "def seed_worker(worker_id):\n",
    "    worker_seed = torch.initial_seed() % 2 ** 32 + worker_id\n",
    "    np.random.seed(worker_seed)\n",
    "    random.seed(worker_seed)\n"
   ],
   "metadata": {
    "collapsed": false,
    "pycharm": {
     "name": "#%%\n"
    }
   }
  },
  {
   "cell_type": "markdown",
   "metadata": {
    "collapsed": true,
    "pycharm": {
     "name": "#%% md\n"
    }
   },
   "source": [
    "## Data Preprocessing"
   ]
  },
  {
   "cell_type": "code",
   "execution_count": 3,
   "outputs": [
    {
     "name": "stderr",
     "output_type": "stream",
     "text": [
      "05/29/2021 08:19:53 PM - INFO: Resized images saved.\n",
      "05/29/2021 08:19:53 PM - INFO: int2name saved as: ./datasets/modified_datasets/int2name.json\n",
      "05/29/2021 08:19:53 PM - INFO: Tiny ImageNet id2int saved as: ./datasets/modified_datasets/imagenet/id2int.json\n",
      "05/29/2021 08:19:53 PM - INFO: Tiny ImageNet id2name saved as: ./datasets/modified_datasets/imagenet/id2name.json\n",
      "05/29/2021 08:19:53 PM - INFO: Tiny ImageNet training list saved as: ./datasets/modified_datasets/imagenet/train.json\n",
      "05/29/2021 08:19:53 PM - INFO: Tiny ImageNet validation list saved as: ./datasets/modified_datasets/imagenet/validation.json\n",
      "05/29/2021 08:19:53 PM - INFO: UTKFace training list saved as: ./datasets/modified_datasets/utk/train.json\n",
      "05/29/2021 08:19:53 PM - INFO: UTKFace validation list saved as: ./datasets/modified_datasets/utk/validation.json\n",
      "05/29/2021 08:19:53 PM - INFO: VGG training list saved as: ./datasets/modified_datasets/vgg/train.json\n",
      "05/29/2021 08:19:53 PM - INFO: VGG validation list saved as: ./datasets/modified_datasets/vgg/validation.json\n"
     ]
    },
    {
     "ename": "ValueError",
     "evalue": "num_samples should be a positive integer value, but got num_samples=0",
     "output_type": "error",
     "traceback": [
      "\u001B[0;31m---------------------------------------------------------------------------\u001B[0m",
      "\u001B[0;31mValueError\u001B[0m                                Traceback (most recent call last)",
      "\u001B[0;32m<ipython-input-3-1e905a997a4f>\u001B[0m in \u001B[0;36m<module>\u001B[0;34m\u001B[0m\n\u001B[1;32m     43\u001B[0m \u001B[0;34m\u001B[0m\u001B[0m\n\u001B[1;32m     44\u001B[0m \u001B[0mutk_vgg_dataset\u001B[0m \u001B[0;34m=\u001B[0m \u001B[0mValDatasetVggUtk\u001B[0m\u001B[0;34m(\u001B[0m\u001B[0mdu\u001B[0m\u001B[0;34m=\u001B[0m\u001B[0mdata_utility\u001B[0m\u001B[0;34m,\u001B[0m \u001B[0mimage_size\u001B[0m\u001B[0;34m=\u001B[0m\u001B[0mIMAGE_SIZE\u001B[0m\u001B[0;34m)\u001B[0m\u001B[0;34m\u001B[0m\u001B[0;34m\u001B[0m\u001B[0m\n\u001B[0;32m---> 45\u001B[0;31m utk_vgg_dataloader = DataLoader(dataset=utk_vgg_dataset, batch_size=BATCH_SIZE,\n\u001B[0m\u001B[1;32m     46\u001B[0m                                      shuffle=shuffle, num_workers=WORKER_COUNT, worker_init_fn=seed_worker)\n\u001B[1;32m     47\u001B[0m \u001B[0;34m\u001B[0m\u001B[0m\n",
      "\u001B[0;32m~/miniconda3/envs/machine_learning/lib/python3.8/site-packages/torch/utils/data/dataloader.py\u001B[0m in \u001B[0;36m__init__\u001B[0;34m(self, dataset, batch_size, shuffle, sampler, batch_sampler, num_workers, collate_fn, pin_memory, drop_last, timeout, worker_init_fn, multiprocessing_context, generator, prefetch_factor, persistent_workers)\u001B[0m\n\u001B[1;32m    264\u001B[0m                     \u001B[0;31m# Cannot statically verify that dataset is Sized\u001B[0m\u001B[0;34m\u001B[0m\u001B[0;34m\u001B[0m\u001B[0;34m\u001B[0m\u001B[0m\n\u001B[1;32m    265\u001B[0m                     \u001B[0;31m# Somewhat related: see NOTE [ Lack of Default `__len__` in Python Abstract Base Classes ]\u001B[0m\u001B[0;34m\u001B[0m\u001B[0;34m\u001B[0m\u001B[0;34m\u001B[0m\u001B[0m\n\u001B[0;32m--> 266\u001B[0;31m                     \u001B[0msampler\u001B[0m \u001B[0;34m=\u001B[0m \u001B[0mRandomSampler\u001B[0m\u001B[0;34m(\u001B[0m\u001B[0mdataset\u001B[0m\u001B[0;34m,\u001B[0m \u001B[0mgenerator\u001B[0m\u001B[0;34m=\u001B[0m\u001B[0mgenerator\u001B[0m\u001B[0;34m)\u001B[0m  \u001B[0;31m# type: ignore\u001B[0m\u001B[0;34m\u001B[0m\u001B[0;34m\u001B[0m\u001B[0m\n\u001B[0m\u001B[1;32m    267\u001B[0m                 \u001B[0;32melse\u001B[0m\u001B[0;34m:\u001B[0m\u001B[0;34m\u001B[0m\u001B[0;34m\u001B[0m\u001B[0m\n\u001B[1;32m    268\u001B[0m                     \u001B[0msampler\u001B[0m \u001B[0;34m=\u001B[0m \u001B[0mSequentialSampler\u001B[0m\u001B[0;34m(\u001B[0m\u001B[0mdataset\u001B[0m\u001B[0;34m)\u001B[0m\u001B[0;34m\u001B[0m\u001B[0;34m\u001B[0m\u001B[0m\n",
      "\u001B[0;32m~/miniconda3/envs/machine_learning/lib/python3.8/site-packages/torch/utils/data/sampler.py\u001B[0m in \u001B[0;36m__init__\u001B[0;34m(self, data_source, replacement, num_samples, generator)\u001B[0m\n\u001B[1;32m    101\u001B[0m \u001B[0;34m\u001B[0m\u001B[0m\n\u001B[1;32m    102\u001B[0m         \u001B[0;32mif\u001B[0m \u001B[0;32mnot\u001B[0m \u001B[0misinstance\u001B[0m\u001B[0;34m(\u001B[0m\u001B[0mself\u001B[0m\u001B[0;34m.\u001B[0m\u001B[0mnum_samples\u001B[0m\u001B[0;34m,\u001B[0m \u001B[0mint\u001B[0m\u001B[0;34m)\u001B[0m \u001B[0;32mor\u001B[0m \u001B[0mself\u001B[0m\u001B[0;34m.\u001B[0m\u001B[0mnum_samples\u001B[0m \u001B[0;34m<=\u001B[0m \u001B[0;36m0\u001B[0m\u001B[0;34m:\u001B[0m\u001B[0;34m\u001B[0m\u001B[0;34m\u001B[0m\u001B[0m\n\u001B[0;32m--> 103\u001B[0;31m             raise ValueError(\"num_samples should be a positive integer \"\n\u001B[0m\u001B[1;32m    104\u001B[0m                              \"value, but got num_samples={}\".format(self.num_samples))\n\u001B[1;32m    105\u001B[0m \u001B[0;34m\u001B[0m\u001B[0m\n",
      "\u001B[0;31mValueError\u001B[0m: num_samples should be a positive integer value, but got num_samples=0"
     ]
    }
   ],
   "source": [
    "# Parameter settings for batching\n",
    "BATCH_SIZE = 128\n",
    "# 64 <= image_size <= 224\n",
    "IMAGE_SIZE = 64\n",
    "# 0 <= WORKER_COUNT\n",
    "WORKER_COUNT = 7\n",
    "# 1 <= NUMBER_OF_CLASSES <= 201\n",
    "NUMBER_OF_CLASSES = 4\n",
    "# 0 < TRAIN_IMAGE_COUNT <= 500\n",
    "TRAIN_IMAGE_COUNT = 500\n",
    "# True/False\n",
    "shuffle = True\n",
    "\n",
    "# Use this line if you're executing for the first time\n",
    "# data_utility = DatasetUtil(base_dir=\"./datasets\", total_class_count=10, img_size=64, train_img_count=500,\n",
    "#                            vgg_download=True)\n",
    "data_utility = DatasetUtil(base_dir=\"./datasets\", total_class_count=NUMBER_OF_CLASSES, img_size=IMAGE_SIZE, train_img_count=TRAIN_IMAGE_COUNT,\n",
    "                           load_from_json=False)\n",
    "data_utility.save_all_json()\n",
    "\n",
    "imagenet_datasets = {'train': Imagenet(du=data_utility, base_dir=\"./datasets\", image_size=IMAGE_SIZE),\n",
    "                'val': Imagenet(du=data_utility, base_dir=\"./datasets\", image_size=IMAGE_SIZE, validation=True)}\n",
    "imagenet_dataloaders = {'train': DataLoader(dataset=imagenet_datasets['train'], batch_size=BATCH_SIZE,\n",
    "                                       shuffle=shuffle, num_workers=WORKER_COUNT, worker_init_fn=seed_worker),\n",
    "                   'val': DataLoader(dataset=imagenet_datasets['val'], batch_size=BATCH_SIZE,\n",
    "                                     shuffle=shuffle, num_workers=WORKER_COUNT, worker_init_fn=seed_worker)}\n",
    "\n",
    "# Load data for Tiny ImageNet + UTKFace\n",
    "utk_datasets = {'train': ImagenetUtk(du=data_utility, base_dir=\"./datasets\", image_size=IMAGE_SIZE),\n",
    "                'val': ImagenetUtk(du=data_utility, base_dir=\"./datasets\", image_size=IMAGE_SIZE, validation=True)}\n",
    "utk_dataloaders = {'train': DataLoader(dataset=utk_datasets['train'], batch_size=BATCH_SIZE,\n",
    "                                       shuffle=shuffle, num_workers=WORKER_COUNT, worker_init_fn=seed_worker),\n",
    "                   'val': DataLoader(dataset=utk_datasets['val'], batch_size=BATCH_SIZE,\n",
    "                                     shuffle=shuffle, num_workers=WORKER_COUNT, worker_init_fn=seed_worker)}\n",
    "\n",
    "# Load data for Tiny ImageNet + VGG\n",
    "vgg_datasets = {'train': ImagenetVgg(du=data_utility, base_dir=\"./datasets\", image_size=IMAGE_SIZE),\n",
    "                'val': ImagenetVgg(du=data_utility, base_dir=\"./datasets\", image_size=IMAGE_SIZE, validation=True)}\n",
    "vgg_dataloaders = {'train': DataLoader(dataset=vgg_datasets['train'], batch_size=BATCH_SIZE,\n",
    "                                       shuffle=shuffle, num_workers=WORKER_COUNT, worker_init_fn=seed_worker),\n",
    "                   'val': DataLoader(dataset=vgg_datasets['val'], batch_size=BATCH_SIZE,\n",
    "                                     shuffle=shuffle, num_workers=WORKER_COUNT, worker_init_fn=seed_worker)}\n",
    "\n",
    "utk_vgg_dataset = ValDatasetVggUtk(du=data_utility, image_size=IMAGE_SIZE)\n",
    "utk_vgg_dataloader = DataLoader(dataset=utk_vgg_dataset, batch_size=BATCH_SIZE,\n",
    "                                     shuffle=shuffle, num_workers=WORKER_COUNT, worker_init_fn=seed_worker)\n",
    "\n",
    "\n",
    "# this classes list will contain class names of items[0] to [9] in string\n",
    "# class_names = utk_datasets['train'].get_class_names()"
   ],
   "metadata": {
    "collapsed": false,
    "pycharm": {
     "name": "#%%\n"
    }
   }
  },
  {
   "cell_type": "markdown",
   "source": [
    "## Dataset preview"
   ],
   "metadata": {
    "collapsed": false
   }
  },
  {
   "cell_type": "code",
   "execution_count": 3,
   "outputs": [
    {
     "name": "stdout",
     "output_type": "stream",
     "text": [
      "Imagenet dataset statistics\n",
      "Number of classes: 5\n",
      "Class names: ['water tower', 'orangutan, orang, orangutang, Pongo pygmaeus', 'wooden spoon', 'jellyfish', 'face']\n",
      "Length of training dataset: 2000\n",
      "Length of validation dataset: 200\n",
      "Batch size: 128\n",
      "Number of batches in the training dataloader: 16\n",
      "Number of batches in the training dataloader: 2\n",
      "Device: cuda:0\n",
      "\n",
      "UTKFace dataset statistics\n",
      "Number of classes: 4\n",
      "Class names: ['water tower', 'orangutan, orang, orangutang, Pongo pygmaeus', 'wooden spoon', 'face']\n",
      "Length of training dataset: 2000\n",
      "Length of validation dataset: 200\n",
      "Batch size: 128\n",
      "Number of batches in the training dataloader: 16\n",
      "Number of batches in the training dataloader: 2\n",
      "Device: cuda:0\n",
      "\n",
      "VGG Face dataset statistics\n",
      "Number of classes: 4\n",
      "Class names: ['water tower', 'orangutan, orang, orangutang, Pongo pygmaeus', 'wooden spoon', 'face']\n",
      "Length of training dataset: 2000\n",
      "Length of validation dataset: 200\n",
      "Batch size: 128\n",
      "Number of batches in the training dataloader: 16\n",
      "Number of batches in the training dataloader: 2\n",
      "Device: cuda:0\n",
      "\n"
     ]
    }
   ],
   "source": [
    "def info_data(image_datasets: dict, dataloaders: dict) -> None:\n",
    "    \"\"\"\n",
    "    Prints info. about datasets/dataloaders; uncomment if necessary\n",
    "    :return: None\n",
    "    \"\"\"\n",
    "    cls = image_datasets[\"train\"].get_class_names()\n",
    "    print('Number of classes: %s' % len(cls))\n",
    "    print('Class names: %s' % cls)\n",
    "    print('Length of training dataset: %s' % len(image_datasets['train']))\n",
    "    print('Length of validation dataset: %s' % len(image_datasets['val']))\n",
    "    print('Batch size: %s' % BATCH_SIZE)\n",
    "    print('Number of batches in the training dataloader: %s' % len(dataloaders['train']))\n",
    "    print('Number of batches in the training dataloader: %s' % len(dataloaders['val']))\n",
    "    print('Device: %s\\n' % device)\n",
    "\n",
    "print(\"Imagenet dataset statistics\")\n",
    "info_data(imagenet_datasets, imagenet_dataloaders)\n",
    "print(\"UTKFace dataset statistics\")\n",
    "info_data(utk_datasets, utk_dataloaders)\n",
    "print(\"VGG Face dataset statistics\")\n",
    "info_data(vgg_datasets, vgg_dataloaders)"
   ],
   "metadata": {
    "collapsed": false,
    "pycharm": {
     "name": "#%%\n"
    }
   }
  },
  {
   "cell_type": "code",
   "execution_count": 4,
   "outputs": [],
   "source": [
    "def image_show(inp, title=None):\n",
    "    \"\"\"Imshow for Tensor.\"\"\"\n",
    "    inp = inp.numpy().transpose((1, 2, 0))\n",
    "    plt.imshow(inp)\n",
    "    if title is not None:\n",
    "        plt.title(title)\n",
    "\n",
    "\n",
    "def get_preview(dataloaders: dict):\n",
    "    \"\"\"\n",
    "    Preview 64 images in training dataset\n",
    "    :param dataloaders: Dataloader dictionary to use to print images\n",
    "    :return: None\n",
    "    \"\"\"\n",
    "    # Get the first batch of training data\n",
    "    inputs, classes = list(dataloaders['train'])[0]\n",
    "\n",
    "    # Make a grid from batch\n",
    "    out = torchvision.utils.make_grid(inputs[:64])\n",
    "\n",
    "    image_show(out, title=\"preview\")"
   ],
   "metadata": {
    "collapsed": false,
    "pycharm": {
     "name": "#%%\n"
    }
   }
  },
  {
   "cell_type": "code",
   "execution_count": 5,
   "outputs": [
    {
     "name": "stderr",
     "output_type": "stream",
     "text": [
      "Clipping input data to the valid range for imshow with RGB data ([0..1] for floats or [0..255] for integers).\n"
     ]
    },
    {
     "data": {
      "text/plain": "<Figure size 432x288 with 1 Axes>",
      "image/png": "[encoded data removed]"
     },
     "metadata": {
      "needs_background": "light"
     },
     "output_type": "display_data"
    }
   ],
   "source": [
    "get_preview(dataloaders=utk_dataloaders)"
   ],
   "metadata": {
    "collapsed": false,
    "pycharm": {
     "name": "#%%\n"
    }
   }
  },
  {
   "cell_type": "code",
   "execution_count": 6,
   "outputs": [
    {
     "name": "stderr",
     "output_type": "stream",
     "text": [
      "Clipping input data to the valid range for imshow with RGB data ([0..1] for floats or [0..255] for integers).\n"
     ]
    },
    {
     "data": {
      "text/plain": "<Figure size 432x288 with 1 Axes>",
      "image/png": "[encoded data removed]"
     },
     "metadata": {
      "needs_background": "light"
     },
     "output_type": "display_data"
    }
   ],
   "source": [
    "get_preview(dataloaders=vgg_dataloaders)"
   ],
   "metadata": {
    "collapsed": false,
    "pycharm": {
     "name": "#%%\n"
    }
   }
  },
  {
   "cell_type": "markdown",
   "source": [
    "## Model Training"
   ],
   "metadata": {
    "collapsed": false
   }
  },
  {
   "cell_type": "code",
   "execution_count": 8,
   "outputs": [],
   "source": [
    "# Parameters\n",
    "EPOCH = 25\n",
    "LEARNING_RATE = 0.001\n",
    "SGD_MOMENTUM = 0.9\n",
    "SGD_WEIGHT_DECAY = 0.0001\n",
    "LR_DECAY_STEP_SIZE = 7\n",
    "LR_DECAY_FACTOR = 0.1\n",
    "\n",
    "\n",
    "def train_model(model_ft: Any, dataloaders, image_datasets):\n",
    "    def _train_model(model: Any, criterion, optimizer, scheduler, dl, img_datasets):\n",
    "        since = time.time()\n",
    "\n",
    "        best_model_wts = copy.deepcopy(model.state_dict())\n",
    "        best_acc = 0.0\n",
    "\n",
    "        for epoch in range(EPOCH):\n",
    "            print('Epoch {}/{}'.format(epoch, EPOCH - 1))\n",
    "            print('-' * 10)\n",
    "\n",
    "            # Each epoch has a training and validation phase\n",
    "            for phase in ['train', 'val']:\n",
    "                if phase == 'train':\n",
    "                    model.train()  # Set model to training mode\n",
    "                else:\n",
    "                    model.eval()  # Set model to evaluate mode\n",
    "\n",
    "                running_loss = 0.0\n",
    "                running_corrects = 0\n",
    "\n",
    "                # Iterate over data.\n",
    "                for imgs, labels in dl[phase]:\n",
    "                    # print('Iterating ', labels, '...')\n",
    "                    torch.cuda.empty_cache()  # clean up cache\n",
    "                    #print(torch.cuda.memory_summary(device=device, abbreviated=False))\n",
    "                    imgs = imgs.float().to(device)\n",
    "                    labels = labels.to(device)\n",
    "\n",
    "                    # zero the parameter gradients\n",
    "                    optimizer.zero_grad()\n",
    "\n",
    "                    # forward\n",
    "                    # track history if only in train\n",
    "                    with torch.set_grad_enabled(phase == 'train'):\n",
    "                        outputs = model(imgs)\n",
    "                        _, preds = torch.max(outputs, 1)\n",
    "                        loss = criterion(outputs, labels)\n",
    "\n",
    "                        # backward + optimize only if in training phase\n",
    "                        if phase == 'train':\n",
    "                            loss.backward()\n",
    "                            optimizer.step()\n",
    "\n",
    "                    # statistics\n",
    "                    running_loss += loss.item() * imgs.size(0)\n",
    "                    running_corrects += torch.eq(preds, labels.data).sum()\n",
    "                if phase == 'train':\n",
    "                    scheduler.step()\n",
    "                dataset_size = len(img_datasets[phase])\n",
    "                epoch_loss = running_loss / dataset_size\n",
    "                epoch_acc = running_corrects.double() / dataset_size\n",
    "\n",
    "                print('{} Loss: {:.4f} Acc: {:.4f}'.format(\n",
    "                    phase, epoch_loss, epoch_acc))\n",
    "\n",
    "                # deep copy the model\n",
    "                if phase == 'val' and epoch_acc > best_acc:\n",
    "                    best_acc = epoch_acc\n",
    "                    best_model_wts = copy.deepcopy(model.state_dict())\n",
    "\n",
    "            print()\n",
    "\n",
    "        time_elapsed = time.time() - since\n",
    "        print('Training complete in {:.0f}m {:.0f}s'.format(\n",
    "            time_elapsed // 60, time_elapsed % 60))\n",
    "        print('Best val Acc: {:4f}'.format(best_acc))\n",
    "\n",
    "        # load best model weights\n",
    "        model.load_state_dict(best_model_wts)\n",
    "        return model\n",
    "\n",
    "    num_ftrs = model_ft.fc.in_features\n",
    "\n",
    "    # TODO: Here the size of each output sample is set to 2 it is the number of classes.\n",
    "    # Alternatively, it can be generalized to nn.Linear(num_ftrs, len(class_names)).\n",
    "    model_ft.fc = nn.Linear(num_ftrs, len(image_datasets['train'].get_class_names()))\n",
    "\n",
    "    model_ft = model_ft.to(device)\n",
    "\n",
    "    loss_fn = nn.CrossEntropyLoss()\n",
    "\n",
    "    # Observe that all parameters are being optimized\n",
    "    optimizer_ft = optim.SGD(model_ft.parameters(), lr=LEARNING_RATE, weight_decay=SGD_WEIGHT_DECAY,\n",
    "                             momentum=SGD_MOMENTUM)\n",
    "\n",
    "    # Decay LR by a factor of 0.1 every 7 epochs\n",
    "    # TODO: Perhaps we can consider ReduceLROnPlateau instead\n",
    "    exp_lr_scheduler = lr_scheduler.StepLR(optimizer_ft, step_size=LR_DECAY_STEP_SIZE, gamma=LR_DECAY_FACTOR)\n",
    "\n",
    "    return _train_model(model_ft, loss_fn, optimizer_ft, exp_lr_scheduler,\n",
    "                        dl=dataloaders, img_datasets=image_datasets)\n",
    "\n",
    "# model_arch = models.resnet50()"
   ],
   "metadata": {
    "collapsed": false,
    "pycharm": {
     "name": "#%%\n"
    }
   }
  },
  {
   "cell_type": "code",
   "execution_count": 9,
   "outputs": [
    {
     "name": "stdout",
     "output_type": "stream",
     "text": [
      "Epoch 0/24\n",
      "----------\n",
      "train Loss: 1.5192 Acc: 0.2830\n",
      "val Loss: 1.5286 Acc: 0.2700\n",
      "\n",
      "Epoch 1/24\n",
      "----------\n",
      "train Loss: 1.3898 Acc: 0.3290\n",
      "val Loss: 1.8262 Acc: 0.2800\n",
      "\n",
      "Epoch 2/24\n",
      "----------\n",
      "train Loss: 1.2891 Acc: 0.4020\n",
      "val Loss: 1.4781 Acc: 0.4200\n",
      "\n",
      "Epoch 3/24\n",
      "----------\n",
      "train Loss: 1.2185 Acc: 0.4470\n",
      "val Loss: 1.2713 Acc: 0.4650\n",
      "\n",
      "Epoch 4/24\n",
      "----------\n",
      "train Loss: 1.1550 Acc: 0.4975\n",
      "val Loss: 1.0974 Acc: 0.5500\n",
      "\n",
      "Epoch 5/24\n",
      "----------\n",
      "train Loss: 1.0760 Acc: 0.5365\n",
      "val Loss: 1.0534 Acc: 0.5350\n",
      "\n",
      "Epoch 6/24\n",
      "----------\n",
      "train Loss: 1.0228 Acc: 0.5890\n",
      "val Loss: 0.9877 Acc: 0.6150\n",
      "\n",
      "Epoch 7/24\n",
      "----------\n",
      "train Loss: 0.9581 Acc: 0.6445\n",
      "val Loss: 0.9222 Acc: 0.5850\n",
      "\n",
      "Epoch 8/24\n",
      "----------\n",
      "train Loss: 0.9337 Acc: 0.6200\n",
      "val Loss: 0.9073 Acc: 0.6050\n",
      "\n",
      "Epoch 9/24\n",
      "----------\n",
      "train Loss: 0.9286 Acc: 0.6375\n",
      "val Loss: 0.8803 Acc: 0.6450\n",
      "\n",
      "Epoch 10/24\n",
      "----------\n",
      "train Loss: 0.9046 Acc: 0.6580\n",
      "val Loss: 0.8792 Acc: 0.6450\n",
      "\n",
      "Epoch 11/24\n",
      "----------\n",
      "train Loss: 0.8893 Acc: 0.6550\n",
      "val Loss: 0.8772 Acc: 0.6200\n",
      "\n",
      "Epoch 12/24\n",
      "----------\n",
      "train Loss: 0.8833 Acc: 0.6675\n",
      "val Loss: 0.8665 Acc: 0.6300\n",
      "\n",
      "Epoch 13/24\n",
      "----------\n",
      "train Loss: 0.8640 Acc: 0.6640\n",
      "val Loss: 0.8691 Acc: 0.6450\n",
      "\n",
      "Epoch 14/24\n",
      "----------\n",
      "train Loss: 0.8506 Acc: 0.6760\n",
      "val Loss: 0.8578 Acc: 0.6300\n",
      "\n",
      "Epoch 15/24\n",
      "----------\n",
      "train Loss: 0.8503 Acc: 0.6690\n",
      "val Loss: 0.8491 Acc: 0.6400\n",
      "\n",
      "Epoch 16/24\n",
      "----------\n",
      "train Loss: 0.8479 Acc: 0.6830\n",
      "val Loss: 0.8543 Acc: 0.6550\n",
      "\n",
      "Epoch 17/24\n",
      "----------\n",
      "train Loss: 0.8525 Acc: 0.6765\n",
      "val Loss: 0.8521 Acc: 0.6350\n",
      "\n",
      "Epoch 18/24\n",
      "----------\n",
      "train Loss: 0.8441 Acc: 0.6765\n",
      "val Loss: 0.8462 Acc: 0.6400\n",
      "\n",
      "Epoch 19/24\n",
      "----------\n",
      "train Loss: 0.8551 Acc: 0.6805\n",
      "val Loss: 0.8547 Acc: 0.6550\n",
      "\n",
      "Epoch 20/24\n",
      "----------\n",
      "train Loss: 0.8504 Acc: 0.6670\n",
      "val Loss: 0.8582 Acc: 0.6500\n",
      "\n",
      "Epoch 21/24\n",
      "----------\n",
      "train Loss: 0.8469 Acc: 0.6865\n",
      "val Loss: 0.8545 Acc: 0.6450\n",
      "\n",
      "Epoch 22/24\n",
      "----------\n",
      "train Loss: 0.8471 Acc: 0.6835\n",
      "val Loss: 0.8496 Acc: 0.6300\n",
      "\n",
      "Epoch 23/24\n",
      "----------\n",
      "train Loss: 0.8368 Acc: 0.6875\n",
      "val Loss: 0.8493 Acc: 0.6400\n",
      "\n",
      "Epoch 24/24\n",
      "----------\n",
      "train Loss: 0.8423 Acc: 0.6885\n",
      "val Loss: 0.8476 Acc: 0.6350\n",
      "\n",
      "Training complete in 1m 10s\n",
      "Best val Acc: 0.655000\n"
     ]
    }
   ],
   "source": [
    "imgnet_model_ft = train_model(models.resnet50(), dataloaders=imagenet_dataloaders, image_datasets=imagenet_datasets)"
   ],
   "metadata": {
    "collapsed": false,
    "pycharm": {
     "name": "#%%\n"
    }
   }
  },
  {
   "cell_type": "code",
   "execution_count": 10,
   "outputs": [
    {
     "name": "stdout",
     "output_type": "stream",
     "text": [
      "Epoch 0/24\n",
      "----------\n",
      "train Loss: 1.4003 Acc: 0.2950\n",
      "val Loss: 2.4564 Acc: 0.2850\n",
      "\n",
      "Epoch 1/24\n",
      "----------\n",
      "train Loss: 1.2877 Acc: 0.3875\n",
      "val Loss: 2.2038 Acc: 0.3200\n",
      "\n",
      "Epoch 2/24\n",
      "----------\n",
      "train Loss: 1.2364 Acc: 0.4245\n",
      "val Loss: 1.1903 Acc: 0.4600\n",
      "\n",
      "Epoch 3/24\n",
      "----------\n",
      "train Loss: 1.1197 Acc: 0.5150\n",
      "val Loss: 1.1256 Acc: 0.5050\n",
      "\n",
      "Epoch 4/24\n",
      "----------\n",
      "train Loss: 1.0734 Acc: 0.4990\n",
      "val Loss: 1.1396 Acc: 0.4600\n",
      "\n",
      "Epoch 5/24\n",
      "----------\n",
      "train Loss: 1.0437 Acc: 0.5635\n",
      "val Loss: 1.0971 Acc: 0.5650\n",
      "\n",
      "Epoch 6/24\n",
      "----------\n",
      "train Loss: 1.0030 Acc: 0.5850\n",
      "val Loss: 1.0925 Acc: 0.4900\n",
      "\n",
      "Epoch 7/24\n",
      "----------\n",
      "train Loss: 0.9483 Acc: 0.6275\n",
      "val Loss: 1.0043 Acc: 0.5900\n",
      "\n",
      "Epoch 8/24\n",
      "----------\n",
      "train Loss: 0.9290 Acc: 0.6265\n",
      "val Loss: 0.9749 Acc: 0.5950\n",
      "\n",
      "Epoch 9/24\n",
      "----------\n",
      "train Loss: 0.8947 Acc: 0.6525\n",
      "val Loss: 0.9773 Acc: 0.6000\n",
      "\n",
      "Epoch 10/24\n",
      "----------\n",
      "train Loss: 0.8869 Acc: 0.6510\n",
      "val Loss: 0.9825 Acc: 0.5900\n",
      "\n",
      "Epoch 11/24\n",
      "----------\n",
      "train Loss: 0.8697 Acc: 0.6685\n",
      "val Loss: 0.9765 Acc: 0.5700\n",
      "\n",
      "Epoch 12/24\n",
      "----------\n",
      "train Loss: 0.8650 Acc: 0.6740\n",
      "val Loss: 0.9566 Acc: 0.5950\n",
      "\n",
      "Epoch 13/24\n",
      "----------\n",
      "train Loss: 0.8386 Acc: 0.6835\n",
      "val Loss: 0.9542 Acc: 0.6300\n",
      "\n",
      "Epoch 14/24\n",
      "----------\n",
      "train Loss: 0.8243 Acc: 0.6995\n",
      "val Loss: 0.9458 Acc: 0.6150\n",
      "\n",
      "Epoch 15/24\n",
      "----------\n",
      "train Loss: 0.8256 Acc: 0.6815\n",
      "val Loss: 0.9514 Acc: 0.5850\n",
      "\n",
      "Epoch 16/24\n",
      "----------\n",
      "train Loss: 0.8294 Acc: 0.6950\n",
      "val Loss: 0.9443 Acc: 0.6000\n",
      "\n",
      "Epoch 17/24\n",
      "----------\n",
      "train Loss: 0.8291 Acc: 0.6825\n",
      "val Loss: 0.9551 Acc: 0.5700\n",
      "\n",
      "Epoch 18/24\n",
      "----------\n",
      "train Loss: 0.8269 Acc: 0.6815\n",
      "val Loss: 0.9431 Acc: 0.6100\n",
      "\n",
      "Epoch 19/24\n",
      "----------\n",
      "train Loss: 0.8200 Acc: 0.6970\n",
      "val Loss: 0.9393 Acc: 0.6200\n",
      "\n",
      "Epoch 20/24\n",
      "----------\n",
      "train Loss: 0.8216 Acc: 0.7010\n",
      "val Loss: 0.9418 Acc: 0.5850\n",
      "\n",
      "Epoch 21/24\n",
      "----------\n",
      "train Loss: 0.8159 Acc: 0.7010\n",
      "val Loss: 0.9365 Acc: 0.6050\n",
      "\n",
      "Epoch 22/24\n",
      "----------\n",
      "train Loss: 0.8251 Acc: 0.6945\n",
      "val Loss: 0.9436 Acc: 0.6000\n",
      "\n",
      "Epoch 23/24\n",
      "----------\n",
      "train Loss: 0.8242 Acc: 0.6970\n",
      "val Loss: 0.9356 Acc: 0.6250\n",
      "\n",
      "Epoch 24/24\n",
      "----------\n",
      "train Loss: 0.8307 Acc: 0.6770\n",
      "val Loss: 0.9388 Acc: 0.6050\n",
      "\n",
      "Training complete in 1m 10s\n",
      "Best val Acc: 0.630000\n"
     ]
    }
   ],
   "source": [
    "utk_model_ft = train_model(models.resnet50(), dataloaders=utk_dataloaders, image_datasets=utk_datasets)"
   ],
   "metadata": {
    "collapsed": false,
    "pycharm": {
     "name": "#%%\n"
    }
   }
  },
  {
   "cell_type": "code",
   "execution_count": 11,
   "outputs": [
    {
     "name": "stdout",
     "output_type": "stream",
     "text": [
      "Epoch 0/24\n",
      "----------\n",
      "train Loss: 1.4592 Acc: 0.2905\n",
      "val Loss: 7.3405 Acc: 0.2500\n",
      "\n",
      "Epoch 1/24\n",
      "----------\n",
      "train Loss: 1.3766 Acc: 0.3290\n",
      "val Loss: 2.0443 Acc: 0.2950\n",
      "\n",
      "Epoch 2/24\n",
      "----------\n",
      "train Loss: 1.2835 Acc: 0.3915\n",
      "val Loss: 1.7468 Acc: 0.4000\n",
      "\n",
      "Epoch 3/24\n",
      "----------\n",
      "train Loss: 1.1678 Acc: 0.4530\n",
      "val Loss: 1.4178 Acc: 0.4250\n",
      "\n",
      "Epoch 4/24\n",
      "----------\n",
      "train Loss: 1.1015 Acc: 0.4940\n",
      "val Loss: 1.3532 Acc: 0.4700\n",
      "\n",
      "Epoch 5/24\n",
      "----------\n",
      "train Loss: 1.0670 Acc: 0.5220\n",
      "val Loss: 1.2704 Acc: 0.4300\n",
      "\n",
      "Epoch 6/24\n",
      "----------\n",
      "train Loss: 1.0112 Acc: 0.5695\n",
      "val Loss: 1.1046 Acc: 0.4600\n",
      "\n",
      "Epoch 7/24\n",
      "----------\n",
      "train Loss: 0.9523 Acc: 0.5900\n",
      "val Loss: 1.0274 Acc: 0.5600\n",
      "\n",
      "Epoch 8/24\n",
      "----------\n",
      "train Loss: 0.9276 Acc: 0.6150\n",
      "val Loss: 1.0043 Acc: 0.5400\n",
      "\n",
      "Epoch 9/24\n",
      "----------\n",
      "train Loss: 0.9146 Acc: 0.6445\n",
      "val Loss: 0.9976 Acc: 0.5350\n",
      "\n",
      "Epoch 10/24\n",
      "----------\n",
      "train Loss: 0.8845 Acc: 0.6550\n",
      "val Loss: 0.9830 Acc: 0.5650\n",
      "\n",
      "Epoch 11/24\n",
      "----------\n",
      "train Loss: 0.8779 Acc: 0.6550\n",
      "val Loss: 0.9856 Acc: 0.5700\n",
      "\n",
      "Epoch 12/24\n",
      "----------\n",
      "train Loss: 0.8629 Acc: 0.6725\n",
      "val Loss: 0.9741 Acc: 0.5700\n",
      "\n",
      "Epoch 13/24\n",
      "----------\n",
      "train Loss: 0.8556 Acc: 0.6690\n",
      "val Loss: 0.9628 Acc: 0.5900\n",
      "\n",
      "Epoch 14/24\n",
      "----------\n",
      "train Loss: 0.8374 Acc: 0.6965\n",
      "val Loss: 0.9457 Acc: 0.6150\n",
      "\n",
      "Epoch 15/24\n",
      "----------\n",
      "train Loss: 0.8336 Acc: 0.6895\n",
      "val Loss: 0.9532 Acc: 0.5850\n",
      "\n",
      "Epoch 16/24\n",
      "----------\n",
      "train Loss: 0.8460 Acc: 0.6795\n",
      "val Loss: 0.9456 Acc: 0.6100\n",
      "\n",
      "Epoch 17/24\n",
      "----------\n",
      "train Loss: 0.8344 Acc: 0.6915\n",
      "val Loss: 0.9561 Acc: 0.5700\n",
      "\n",
      "Epoch 18/24\n",
      "----------\n",
      "train Loss: 0.8410 Acc: 0.6890\n",
      "val Loss: 0.9564 Acc: 0.5900\n",
      "\n",
      "Epoch 19/24\n",
      "----------\n",
      "train Loss: 0.8322 Acc: 0.7000\n",
      "val Loss: 0.9536 Acc: 0.6050\n",
      "\n",
      "Epoch 20/24\n",
      "----------\n",
      "train Loss: 0.8275 Acc: 0.6910\n",
      "val Loss: 0.9408 Acc: 0.6250\n",
      "\n",
      "Epoch 21/24\n",
      "----------\n",
      "train Loss: 0.8303 Acc: 0.7035\n",
      "val Loss: 0.9458 Acc: 0.5850\n",
      "\n",
      "Epoch 22/24\n",
      "----------\n",
      "train Loss: 0.8220 Acc: 0.7090\n",
      "val Loss: 0.9355 Acc: 0.6250\n",
      "\n",
      "Epoch 23/24\n",
      "----------\n",
      "train Loss: 0.8227 Acc: 0.6910\n",
      "val Loss: 0.9386 Acc: 0.6250\n",
      "\n",
      "Epoch 24/24\n",
      "----------\n",
      "train Loss: 0.8282 Acc: 0.6925\n",
      "val Loss: 0.9491 Acc: 0.6150\n",
      "\n",
      "Training complete in 1m 8s\n",
      "Best val Acc: 0.625000\n"
     ]
    }
   ],
   "source": [
    "vgg_model_ft = train_model(models.resnet50(), dataloaders=utk_dataloaders, image_datasets=utk_datasets)"
   ],
   "metadata": {
    "collapsed": false,
    "pycharm": {
     "name": "#%%\n"
    }
   }
  },
  {
   "cell_type": "markdown",
   "source": [
    "## Model Visualization"
   ],
   "metadata": {
    "collapsed": false,
    "pycharm": {
     "name": "#%% md\n"
    }
   }
  },
  {
   "cell_type": "code",
   "execution_count": 34,
   "outputs": [],
   "source": [
    "def visualize_model(model, datasets:dict, dataloaders: dict, num_images=10):\n",
    "    was_training = model.training\n",
    "    model.eval()\n",
    "    images_so_far = 0\n",
    "    # fig = plt.figure()\n",
    "\n",
    "    with torch.no_grad():\n",
    "        for i, (imgs, labels) in enumerate(dataloaders['val']):\n",
    "            imgs = imgs.float().to(device)\n",
    "            labels = labels.to(device)\n",
    "\n",
    "            outputs = model(imgs)\n",
    "            _, preds = torch.max(outputs, 1)\n",
    "\n",
    "            for j in range(imgs.size()[0]):\n",
    "                images_so_far += 1\n",
    "                ax = plt.subplot(num_images // 2, 2, images_so_far)\n",
    "                ax.axis('off')\n",
    "                # TODO: Using .get_class_names() for actual prediction is discouraged as index may not be correct.\n",
    "                ax.set_title(('predicted:' + datasets[\"train\"].get_class_name(preds[j]) +\n",
    "                              '\\n answer:' + datasets[\"train\"].get_class_name(labels.cpu().numpy()[images_so_far - 1])))\n",
    "                image_show(imgs.int().cpu().data[j])\n",
    "\n",
    "                if images_so_far == num_images:\n",
    "                    model.train(mode=was_training)\n",
    "                    return\n",
    "        model.train(mode=was_training)"
   ],
   "metadata": {
    "collapsed": false,
    "pycharm": {
     "name": "#%%\n"
    }
   }
  },
  {
   "cell_type": "code",
   "execution_count": 35,
   "outputs": [
    {
     "name": "stdout",
     "output_type": "stream",
     "text": [
      "64\n",
      "64\n",
      "64\n",
      "64\n",
      "64\n",
      "64\n",
      "64\n",
      "64\n",
      "64\n",
      "64\n"
     ]
    },
    {
     "data": {
      "text/plain": "<Figure size 432x288 with 10 Axes>",
      "image/png": "[encoded data removed]"
     },
     "metadata": {
      "needs_background": "light"
     },
     "output_type": "display_data"
    }
   ],
   "source": [
    "# Visualize utk models\n",
    "visualize_model(utk_model_ft, utk_datasets, utk_dataloaders)\n",
    "# Visualize vgg models\n",
    "visualize_model(vgg_model_ft, vgg_datasets, vgg_dataloaders)"
   ],
   "metadata": {
    "collapsed": false,
    "pycharm": {
     "name": "#%%\n"
    }
   }
  }
 ],
 "metadata": {
  "kernelspec": {
   "display_name": "Python 3",
   "language": "python",
   "name": "python3"
  },
  "language_info": {
   "codemirror_mode": {
    "name": "ipython",
    "version": 2
   },
   "file_extension": ".py",
   "mimetype": "text/x-python",
   "name": "python",
   "nbconvert_exporter": "python",
   "pygments_lexer": "ipython2",
   "version": "2.7.6"
  }
 },
 "nbformat": 4,
 "nbformat_minor": 0
}
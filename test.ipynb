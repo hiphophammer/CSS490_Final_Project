{
 "cells": [
  {
   "cell_type": "code",
   "execution_count": 5,
   "metadata": {
    "collapsed": true
   },
   "outputs": [
    {
     "name": "stdout",
     "output_type": "stream",
     "text": [
      "Why did this happen?\n",
      "Please make sure your browser supports JavaScript and cookies and that you are not blocking them from loading. For more information you can review our Terms of Service and Cookie Policy.\n"
     ]
    }
   ],
   "source": [
    "import os\n",
    "import cv2\n",
    "\n",
    "DATA_DIR = \"/home/jaeha/Storage/road-data/bdd100k/\"\n",
    "SEG_TRAIN_IMAGE = DATA_DIR + \"seg/color_labels/train/\"\n",
    "RAW_TRAIN_IMAGE = DATA_DIR + \"seg/images/train/\"\n",
    "\n",
    "for root, dirs, files in os.walk(SEG_TRAIN_IMAGE):\n",
    "    for name in files:\n",
    "        print(os.path.join(root, name))\n",
    "\n",
    "for root, dirs, files in os.walk(RAW_TRAIN_IMAGE):\n",
    "    for name in files:\n",
    "        print(os.path.join(root, name))"
   ]
  }
 ],
 "metadata": {
  "kernelspec": {
   "display_name": "Python 3",
   "language": "python",
   "name": "python3"
  },
  "language_info": {
   "codemirror_mode": {
    "name": "ipython",
    "version": 2
   },
   "file_extension": ".py",
   "mimetype": "text/x-python",
   "name": "python",
   "nbconvert_exporter": "python",
   "pygments_lexer": "ipython2",
   "version": "2.7.6"
  }
 },
 "nbformat": 4,
 "nbformat_minor": 0
}